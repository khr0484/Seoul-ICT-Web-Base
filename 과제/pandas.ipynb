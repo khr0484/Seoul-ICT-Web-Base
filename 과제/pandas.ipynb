{
 "cells": [
  {
   "cell_type": "code",
   "execution_count": 4,
   "metadata": {},
   "outputs": [
    {
     "name": "stdout",
     "output_type": "stream",
     "text": [
      "\n",
      "CSV 파일로부터 읽은 데이터: \n",
      "\n",
      "name  age  salary\n",
      " 엘리스   25  50,000\n",
      "   밥   30  60,000\n",
      "  찰리   35  70,000\n",
      " 제임스   30 400,000\n",
      " 엘리스   25  50,000\n",
      "   밥   30  60,000\n",
      "  찰리   35  70,000\n",
      " 제임스   30 400,000\n"
     ]
    }
   ],
   "source": [
    "import pandas as pd\n",
    "\n",
    "# CSV 파일로부터 데이터 읽기\n",
    "csv_data = pd.read_csv('my_data.csv') \n",
    "# Unnamed: 0이라는 컬럼명을 num이라는 컬럼명으로 변경\n",
    "csv_data.rename(columns={'Unnamed: 0': 'num'}, inplace=True)\n",
    "# num컬럼 삭제\n",
    "csv_data.drop(columns=['num'], inplace=True)\n",
    "# name컬럼에 해당되는 영문 이름을 한글로 교체\n",
    "csv_data['name'].replace({'Alice': '엘리스', 'Bob': '밥', 'Charlie': '찰리', 'james': '제임스'}, inplace=True)\n",
    "# 숫자를 문자열로 변환하여 콤마 추가\n",
    "csv_data['salary'] = csv_data['salary'].apply(lambda x: \"{0:,}\".format(x))\n",
    "# 수정된 데이터를 추가 생성한 CSV파일로 저장\n",
    "csv_data.to_csv('new_data.csv', index=False)\n",
    "\n",
    "# 결과 출력\n",
    "print(\"\\nCSV 파일로부터 읽은 데이터: \\n\")\n",
    "# index 부분 삭제하여 데이터 출력\n",
    "print(csv_data.to_string(index=False))\n"
   ]
  },
  {
   "cell_type": "code",
   "execution_count": null,
   "metadata": {},
   "outputs": [],
   "source": []
  }
 ],
 "metadata": {
  "kernelspec": {
   "display_name": "Python 3",
   "language": "python",
   "name": "python3"
  },
  "language_info": {
   "codemirror_mode": {
    "name": "ipython",
    "version": 3
   },
   "file_extension": ".py",
   "mimetype": "text/x-python",
   "name": "python",
   "nbconvert_exporter": "python",
   "pygments_lexer": "ipython3",
   "version": "3.11.4"
  },
  "orig_nbformat": 4
 },
 "nbformat": 4,
 "nbformat_minor": 2
}
